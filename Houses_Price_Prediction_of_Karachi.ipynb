{
 "cells": [
  {
   "cell_type": "markdown",
   "id": "806e76c1",
   "metadata": {},
   "source": [
    "# Houses Price Prediction of Karachi"
   ]
  },
  {
   "cell_type": "markdown",
   "id": "fd52d0a5",
   "metadata": {},
   "source": [
    "--------"
   ]
  },
  {
   "cell_type": "markdown",
   "id": "f62375ec",
   "metadata": {},
   "source": [
    "## Import Libraries"
   ]
  },
  {
   "cell_type": "code",
   "execution_count": 65,
   "id": "27a8d60a",
   "metadata": {},
   "outputs": [],
   "source": [
    "import pandas as pd\n",
    "import numpy as np\n",
    "import matplotlib.pyplot as plt\n",
    "import seaborn as sns\n",
    "\n",
    "import warnings\n",
    "warnings.filterwarnings('ignore')"
   ]
  },
  {
   "cell_type": "markdown",
   "id": "55db3601",
   "metadata": {},
   "source": [
    "--------"
   ]
  },
  {
   "cell_type": "markdown",
   "id": "57298e63",
   "metadata": {},
   "source": [
    "## Load Dataset"
   ]
  },
  {
   "cell_type": "code",
   "execution_count": 66,
   "id": "4d0f0707",
   "metadata": {},
   "outputs": [
    {
     "data": {
      "text/html": [
       "<div>\n",
       "<style scoped>\n",
       "    .dataframe tbody tr th:only-of-type {\n",
       "        vertical-align: middle;\n",
       "    }\n",
       "\n",
       "    .dataframe tbody tr th {\n",
       "        vertical-align: top;\n",
       "    }\n",
       "\n",
       "    .dataframe thead th {\n",
       "        text-align: right;\n",
       "    }\n",
       "</style>\n",
       "<table border=\"1\" class=\"dataframe\">\n",
       "  <thead>\n",
       "    <tr style=\"text-align: right;\">\n",
       "      <th></th>\n",
       "      <th>property_id</th>\n",
       "      <th>purpose</th>\n",
       "      <th>city</th>\n",
       "      <th>location</th>\n",
       "      <th>beds</th>\n",
       "      <th>baths</th>\n",
       "      <th>area_yard</th>\n",
       "      <th>price</th>\n",
       "      <th>date_added</th>\n",
       "    </tr>\n",
       "  </thead>\n",
       "  <tbody>\n",
       "    <tr>\n",
       "      <th>11008</th>\n",
       "      <td>Property_11009</td>\n",
       "      <td>Sale</td>\n",
       "      <td>Karachi</td>\n",
       "      <td>Askari 5 - Sector H, Askari 5</td>\n",
       "      <td>5</td>\n",
       "      <td>5</td>\n",
       "      <td>427 Sq. Yd.</td>\n",
       "      <td>7.9 Crore</td>\n",
       "      <td>NaN</td>\n",
       "    </tr>\n",
       "    <tr>\n",
       "      <th>793</th>\n",
       "      <td>Property_794</td>\n",
       "      <td>Sale</td>\n",
       "      <td>Karachi</td>\n",
       "      <td>Bahria Homes - Iqbal Villas, Bahria Town - Pre...</td>\n",
       "      <td>3</td>\n",
       "      <td>3</td>\n",
       "      <td>152 Sq. Yd.</td>\n",
       "      <td>19 Crore</td>\n",
       "      <td>2025-04-26</td>\n",
       "    </tr>\n",
       "    <tr>\n",
       "      <th>10448</th>\n",
       "      <td>Property_10449</td>\n",
       "      <td>Sale</td>\n",
       "      <td>Karachi</td>\n",
       "      <td>Bukhari Commercial Area, DHA Phase 6</td>\n",
       "      <td>194 Sq. Yd.</td>\n",
       "      <td>NaN</td>\n",
       "      <td>NaN</td>\n",
       "      <td>2.4 Crore</td>\n",
       "      <td>2025-01-26</td>\n",
       "    </tr>\n",
       "    <tr>\n",
       "      <th>30</th>\n",
       "      <td>Property_31</td>\n",
       "      <td>Sale</td>\n",
       "      <td>Karachi</td>\n",
       "      <td>North Nazimabad - Block N, North Nazimabad</td>\n",
       "      <td>7</td>\n",
       "      <td>7</td>\n",
       "      <td>256 Sq. Yd.</td>\n",
       "      <td>4 Crore</td>\n",
       "      <td>2025-04-26</td>\n",
       "    </tr>\n",
       "    <tr>\n",
       "      <th>5977</th>\n",
       "      <td>Property_5978</td>\n",
       "      <td>Sale</td>\n",
       "      <td>Karachi</td>\n",
       "      <td>Bahria Town - Ali Block, Bahria Town - Precinc...</td>\n",
       "      <td>3</td>\n",
       "      <td>4</td>\n",
       "      <td>125 Sq. Yd.</td>\n",
       "      <td>1.5 Crore</td>\n",
       "      <td>2025-04-22</td>\n",
       "    </tr>\n",
       "  </tbody>\n",
       "</table>\n",
       "</div>"
      ],
      "text/plain": [
       "          property_id purpose     city  \\\n",
       "11008  Property_11009    Sale  Karachi   \n",
       "793      Property_794    Sale  Karachi   \n",
       "10448  Property_10449    Sale  Karachi   \n",
       "30        Property_31    Sale  Karachi   \n",
       "5977    Property_5978    Sale  Karachi   \n",
       "\n",
       "                                                location         beds baths  \\\n",
       "11008                      Askari 5 - Sector H, Askari 5            5     5   \n",
       "793    Bahria Homes - Iqbal Villas, Bahria Town - Pre...            3     3   \n",
       "10448               Bukhari Commercial Area, DHA Phase 6  194 Sq. Yd.   NaN   \n",
       "30            North Nazimabad - Block N, North Nazimabad            7     7   \n",
       "5977   Bahria Town - Ali Block, Bahria Town - Precinc...            3     4   \n",
       "\n",
       "         area_yard      price  date_added  \n",
       "11008  427 Sq. Yd.  7.9 Crore         NaN  \n",
       "793    152 Sq. Yd.   19 Crore  2025-04-26  \n",
       "10448          NaN  2.4 Crore  2025-01-26  \n",
       "30     256 Sq. Yd.    4 Crore  2025-04-26  \n",
       "5977   125 Sq. Yd.  1.5 Crore  2025-04-22  "
      ]
     },
     "execution_count": 66,
     "metadata": {},
     "output_type": "execute_result"
    }
   ],
   "source": [
    "df = pd.read_csv('D:/DS Bootcamp/Machine Learning/Karachi House Price Prediction/Price-Prediction-of-Karachi-Houses/Karachi Houses Dataset.csv')\n",
    "df.sample(5)"
   ]
  },
  {
   "cell_type": "markdown",
   "id": "acbbc2db",
   "metadata": {},
   "source": [
    "----------"
   ]
  },
  {
   "cell_type": "markdown",
   "id": "86eaede1",
   "metadata": {},
   "source": [
    "## Data Preprocessing"
   ]
  },
  {
   "cell_type": "code",
   "execution_count": 67,
   "id": "e82b8e82",
   "metadata": {},
   "outputs": [
    {
     "name": "stdout",
     "output_type": "stream",
     "text": [
      "<class 'pandas.core.frame.DataFrame'>\n",
      "RangeIndex: 12025 entries, 0 to 12024\n",
      "Data columns (total 9 columns):\n",
      " #   Column       Non-Null Count  Dtype \n",
      "---  ------       --------------  ----- \n",
      " 0   property_id  12025 non-null  object\n",
      " 1   purpose      12025 non-null  object\n",
      " 2   city         12025 non-null  object\n",
      " 3   location     12025 non-null  object\n",
      " 4   beds         12025 non-null  object\n",
      " 5   baths        11226 non-null  object\n",
      " 6   area_yard    11087 non-null  object\n",
      " 7   price        11544 non-null  object\n",
      " 8   date_added   6796 non-null   object\n",
      "dtypes: object(9)\n",
      "memory usage: 845.6+ KB\n"
     ]
    },
    {
     "data": {
      "text/html": [
       "<div>\n",
       "<style scoped>\n",
       "    .dataframe tbody tr th:only-of-type {\n",
       "        vertical-align: middle;\n",
       "    }\n",
       "\n",
       "    .dataframe tbody tr th {\n",
       "        vertical-align: top;\n",
       "    }\n",
       "\n",
       "    .dataframe thead th {\n",
       "        text-align: right;\n",
       "    }\n",
       "</style>\n",
       "<table border=\"1\" class=\"dataframe\">\n",
       "  <thead>\n",
       "    <tr style=\"text-align: right;\">\n",
       "      <th></th>\n",
       "      <th>property_id</th>\n",
       "      <th>purpose</th>\n",
       "      <th>city</th>\n",
       "      <th>location</th>\n",
       "      <th>beds</th>\n",
       "      <th>baths</th>\n",
       "      <th>area_yard</th>\n",
       "      <th>price</th>\n",
       "      <th>date_added</th>\n",
       "    </tr>\n",
       "  </thead>\n",
       "  <tbody>\n",
       "    <tr>\n",
       "      <th>count</th>\n",
       "      <td>12025</td>\n",
       "      <td>12025</td>\n",
       "      <td>12025</td>\n",
       "      <td>12025</td>\n",
       "      <td>12025</td>\n",
       "      <td>11226</td>\n",
       "      <td>11087</td>\n",
       "      <td>11544</td>\n",
       "      <td>6796</td>\n",
       "    </tr>\n",
       "    <tr>\n",
       "      <th>unique</th>\n",
       "      <td>12025</td>\n",
       "      <td>1</td>\n",
       "      <td>1</td>\n",
       "      <td>637</td>\n",
       "      <td>84</td>\n",
       "      <td>49</td>\n",
       "      <td>314</td>\n",
       "      <td>637</td>\n",
       "      <td>20</td>\n",
       "    </tr>\n",
       "    <tr>\n",
       "      <th>top</th>\n",
       "      <td>Property_1</td>\n",
       "      <td>Sale</td>\n",
       "      <td>Karachi</td>\n",
       "      <td>DHA Phase 6, DHA Defence</td>\n",
       "      <td>6</td>\n",
       "      <td>6</td>\n",
       "      <td>120 Sq. Yd.</td>\n",
       "      <td>6.5 Crore</td>\n",
       "      <td>2025-04-26</td>\n",
       "    </tr>\n",
       "    <tr>\n",
       "      <th>freq</th>\n",
       "      <td>1</td>\n",
       "      <td>12025</td>\n",
       "      <td>12025</td>\n",
       "      <td>797</td>\n",
       "      <td>2874</td>\n",
       "      <td>4132</td>\n",
       "      <td>2123</td>\n",
       "      <td>194</td>\n",
       "      <td>1334</td>\n",
       "    </tr>\n",
       "  </tbody>\n",
       "</table>\n",
       "</div>"
      ],
      "text/plain": [
       "       property_id purpose     city                  location   beds  baths  \\\n",
       "count        12025   12025    12025                     12025  12025  11226   \n",
       "unique       12025       1        1                       637     84     49   \n",
       "top     Property_1    Sale  Karachi  DHA Phase 6, DHA Defence      6      6   \n",
       "freq             1   12025    12025                       797   2874   4132   \n",
       "\n",
       "          area_yard      price  date_added  \n",
       "count         11087      11544        6796  \n",
       "unique          314        637          20  \n",
       "top     120 Sq. Yd.  6.5 Crore  2025-04-26  \n",
       "freq           2123        194        1334  "
      ]
     },
     "execution_count": 67,
     "metadata": {},
     "output_type": "execute_result"
    }
   ],
   "source": [
    "df.info()\n",
    "df.describe()"
   ]
  },
  {
   "cell_type": "markdown",
   "id": "7eb75bd9",
   "metadata": {},
   "source": [
    "### Data Anomilies "
   ]
  },
  {
   "cell_type": "markdown",
   "id": "695e2e2a",
   "metadata": {},
   "source": [
    "Correct the data typos and anomilies on the dataset"
   ]
  },
  {
   "cell_type": "markdown",
   "id": "43b52f83",
   "metadata": {},
   "source": [
    "From location extract only the house location area socities\n",
    "like Scheme 33, DHA etc"
   ]
  },
  {
   "cell_type": "code",
   "execution_count": 68,
   "id": "a96621c5",
   "metadata": {},
   "outputs": [],
   "source": [
    "import re\n",
    "locations = ['DHA', 'Malir', 'Scheme 33', 'Naya Nazimabad', 'Gadap Town', 'North Nazimabad', \n",
    "             'Gulistan-e-Jauhar', 'Federal B Area', 'PECHS', 'Gulshan-e-Iqbal', 'Gulshan-e-Maymar', \n",
    "             'North Karachi', 'Shadman Town', 'Clifton', 'Askari 5', 'Surjani Town', 'Bahria', 'Scheme 1', \n",
    "             'Saima Villas', 'Saadi Garden', 'Karsaz', 'Saadi Town', 'Bufferzone', 'NHS Mauripur', 'KN Gohar Green', \n",
    "             'Gulshan-e-Roomi','Landhi','Falcon Complex', 'Saima Luxury', 'Jamshed Town','Amir Khusro', 'Ilyas Goth', \n",
    "             'Airport Road', 'Zamzama', 'Faisal Cantonment','Sindhi Muslim Society', 'Bath Island', 'Shahra-e-Faisal', \n",
    "             'Defence View', 'Shaheed Millat Road', 'Gulshan-e-Kaneez Fatima', 'Chapal Uptown']\n",
    "\n",
    "def extract_location(location):\n",
    "    for loc in locations:\n",
    "        if loc in location:\n",
    "            return loc\n",
    "    return None"
   ]
  },
  {
   "cell_type": "code",
   "execution_count": 69,
   "id": "bc079638",
   "metadata": {},
   "outputs": [],
   "source": [
    "df['society'] = df['location'].apply(extract_location)"
   ]
  },
  {
   "cell_type": "markdown",
   "id": "43101809",
   "metadata": {},
   "source": [
    "During scrapping the data scraped had some errors, like in baths and beds columns some values of area_yard were included"
   ]
  },
  {
   "cell_type": "markdown",
   "id": "6a16bb4f",
   "metadata": {},
   "source": [
    "Correct the baths column "
   ]
  },
  {
   "cell_type": "code",
   "execution_count": 70,
   "id": "e1940a3e",
   "metadata": {},
   "outputs": [],
   "source": [
    "area_condition = df['baths'].str.contains('Sq. Yd.', na=False)\n",
    "\n",
    "df.loc[area_condition, 'area_yard'] = df.loc[area_condition, 'baths']\n",
    "\n",
    "df.loc[area_condition, 'baths'] = None"
   ]
  },
  {
   "cell_type": "markdown",
   "id": "b10fbfe4",
   "metadata": {},
   "source": [
    "Correct the beds column"
   ]
  },
  {
   "cell_type": "code",
   "execution_count": 71,
   "id": "a3fa8797",
   "metadata": {},
   "outputs": [],
   "source": [
    "area_condition = df['beds'].str.contains('Sq. Yd.', na=False)\n",
    "\n",
    "df.loc[area_condition, 'area_yard'] = df.loc[area_condition, 'beds']\n",
    "\n",
    "df.loc[area_condition, 'beds'] = None"
   ]
  },
  {
   "cell_type": "markdown",
   "id": "dd4dbde7",
   "metadata": {},
   "source": [
    "Convert the area_yard into sq_feet"
   ]
  },
  {
   "cell_type": "code",
   "execution_count": 72,
   "id": "088f2548",
   "metadata": {},
   "outputs": [],
   "source": [
    "df['area_num'] = df['area_yard'].str.extract('(\\d+)', expand=False).astype(float)\n",
    "\n",
    "df['area_in_sqft'] = df['area_num'] * 9"
   ]
  },
  {
   "cell_type": "markdown",
   "id": "bbcd78a3",
   "metadata": {},
   "source": [
    "Convert the price to numeric values"
   ]
  },
  {
   "cell_type": "code",
   "execution_count": 73,
   "id": "7138463b",
   "metadata": {},
   "outputs": [],
   "source": [
    "def convert_price(price):\n",
    "    if isinstance(price, float):\n",
    "        return price\n",
    "\n",
    "    if 'Crore' in price:\n",
    "        value = float(re.sub(r'[^\\d.]', '', price))  \n",
    "        return value * 10000000  \n",
    "    elif 'Lakh' in price:\n",
    "        value = float(re.sub(r'[^\\d.]', '', price))  \n",
    "        return value * 100000  \n",
    "    \n",
    "    return float(re.sub(r'[^\\d.]', '', price))"
   ]
  },
  {
   "cell_type": "code",
   "execution_count": 74,
   "id": "7da54e5b",
   "metadata": {},
   "outputs": [],
   "source": [
    "df['numeric_price'] = df['price'].apply(convert_price)"
   ]
  }
 ],
 "metadata": {
  "kernelspec": {
   "display_name": "main",
   "language": "python",
   "name": "python3"
  },
  "language_info": {
   "codemirror_mode": {
    "name": "ipython",
    "version": 3
   },
   "file_extension": ".py",
   "mimetype": "text/x-python",
   "name": "python",
   "nbconvert_exporter": "python",
   "pygments_lexer": "ipython3",
   "version": "3.12.3"
  }
 },
 "nbformat": 4,
 "nbformat_minor": 5
}
