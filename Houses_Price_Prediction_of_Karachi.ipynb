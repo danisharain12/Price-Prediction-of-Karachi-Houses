{
 "cells": [
  {
   "cell_type": "markdown",
   "id": "806e76c1",
   "metadata": {},
   "source": [
    "# Houses Price Prediction of Karachi"
   ]
  },
  {
   "cell_type": "markdown",
   "id": "fd52d0a5",
   "metadata": {},
   "source": [
    "--------"
   ]
  },
  {
   "cell_type": "markdown",
   "id": "f62375ec",
   "metadata": {},
   "source": [
    "## Import Libraries"
   ]
  },
  {
   "cell_type": "code",
   "execution_count": 237,
   "id": "27a8d60a",
   "metadata": {},
   "outputs": [],
   "source": [
    "import pandas as pd\n",
    "import numpy as np\n",
    "import matplotlib.pyplot as plt\n",
    "import seaborn as sns\n",
    "import missingno as msno\n",
    "\n",
    "import warnings\n",
    "warnings.filterwarnings('ignore')"
   ]
  },
  {
   "cell_type": "markdown",
   "id": "55db3601",
   "metadata": {},
   "source": [
    "--------"
   ]
  },
  {
   "cell_type": "markdown",
   "id": "57298e63",
   "metadata": {},
   "source": [
    "## Load Dataset"
   ]
  },
  {
   "cell_type": "code",
   "execution_count": 238,
   "id": "4d0f0707",
   "metadata": {},
   "outputs": [
    {
     "data": {
      "text/html": [
       "<div>\n",
       "<style scoped>\n",
       "    .dataframe tbody tr th:only-of-type {\n",
       "        vertical-align: middle;\n",
       "    }\n",
       "\n",
       "    .dataframe tbody tr th {\n",
       "        vertical-align: top;\n",
       "    }\n",
       "\n",
       "    .dataframe thead th {\n",
       "        text-align: right;\n",
       "    }\n",
       "</style>\n",
       "<table border=\"1\" class=\"dataframe\">\n",
       "  <thead>\n",
       "    <tr style=\"text-align: right;\">\n",
       "      <th></th>\n",
       "      <th>property_id</th>\n",
       "      <th>purpose</th>\n",
       "      <th>city</th>\n",
       "      <th>location</th>\n",
       "      <th>beds</th>\n",
       "      <th>baths</th>\n",
       "      <th>area_yard</th>\n",
       "      <th>price</th>\n",
       "      <th>date_added</th>\n",
       "    </tr>\n",
       "  </thead>\n",
       "  <tbody>\n",
       "    <tr>\n",
       "      <th>6835</th>\n",
       "      <td>Property_6836</td>\n",
       "      <td>Sale</td>\n",
       "      <td>Karachi</td>\n",
       "      <td>North Nazimabad - Block J, North Nazimabad</td>\n",
       "      <td>3</td>\n",
       "      <td>3</td>\n",
       "      <td>200 Sq. Yd.</td>\n",
       "      <td>3.6 Crore</td>\n",
       "      <td>NaN</td>\n",
       "    </tr>\n",
       "    <tr>\n",
       "      <th>11874</th>\n",
       "      <td>Property_11875</td>\n",
       "      <td>Sale</td>\n",
       "      <td>Karachi</td>\n",
       "      <td>Bahria Town - Precinct 8, Bahria Town Karachi</td>\n",
       "      <td>3</td>\n",
       "      <td>4</td>\n",
       "      <td>250 Sq. Yd.</td>\n",
       "      <td>2.7 Crore</td>\n",
       "      <td>NaN</td>\n",
       "    </tr>\n",
       "    <tr>\n",
       "      <th>782</th>\n",
       "      <td>Property_783</td>\n",
       "      <td>Sale</td>\n",
       "      <td>Karachi</td>\n",
       "      <td>Kathiawar Society, Gulshan-e-Iqbal Town</td>\n",
       "      <td>3</td>\n",
       "      <td>3</td>\n",
       "      <td>240 Sq. Yd.</td>\n",
       "      <td>5.6 Crore</td>\n",
       "      <td>2025-04-21</td>\n",
       "    </tr>\n",
       "    <tr>\n",
       "      <th>11282</th>\n",
       "      <td>Property_11283</td>\n",
       "      <td>Sale</td>\n",
       "      <td>Karachi</td>\n",
       "      <td>DHA Phase 8, DHA Defence</td>\n",
       "      <td>6</td>\n",
       "      <td>6</td>\n",
       "      <td>666 Sq. Yd.</td>\n",
       "      <td>2.1 Crore</td>\n",
       "      <td>NaN</td>\n",
       "    </tr>\n",
       "    <tr>\n",
       "      <th>9078</th>\n",
       "      <td>Property_9079</td>\n",
       "      <td>Sale</td>\n",
       "      <td>Karachi</td>\n",
       "      <td>PECHS, Jamshed Town</td>\n",
       "      <td>5</td>\n",
       "      <td>5</td>\n",
       "      <td>250 Sq. Yd.</td>\n",
       "      <td>12.25 Crore</td>\n",
       "      <td>NaN</td>\n",
       "    </tr>\n",
       "  </tbody>\n",
       "</table>\n",
       "</div>"
      ],
      "text/plain": [
       "          property_id purpose     city  \\\n",
       "6835    Property_6836    Sale  Karachi   \n",
       "11874  Property_11875    Sale  Karachi   \n",
       "782      Property_783    Sale  Karachi   \n",
       "11282  Property_11283    Sale  Karachi   \n",
       "9078    Property_9079    Sale  Karachi   \n",
       "\n",
       "                                            location beds baths    area_yard  \\\n",
       "6835      North Nazimabad - Block J, North Nazimabad    3     3  200 Sq. Yd.   \n",
       "11874  Bahria Town - Precinct 8, Bahria Town Karachi    3     4  250 Sq. Yd.   \n",
       "782          Kathiawar Society, Gulshan-e-Iqbal Town    3     3  240 Sq. Yd.   \n",
       "11282                       DHA Phase 8, DHA Defence    6     6  666 Sq. Yd.   \n",
       "9078                             PECHS, Jamshed Town    5     5  250 Sq. Yd.   \n",
       "\n",
       "             price  date_added  \n",
       "6835     3.6 Crore         NaN  \n",
       "11874    2.7 Crore         NaN  \n",
       "782      5.6 Crore  2025-04-21  \n",
       "11282    2.1 Crore         NaN  \n",
       "9078   12.25 Crore         NaN  "
      ]
     },
     "execution_count": 238,
     "metadata": {},
     "output_type": "execute_result"
    }
   ],
   "source": [
    "df = pd.read_csv('D:/DS Bootcamp/Machine Learning/Karachi House Price Prediction/Price-Prediction-of-Karachi-Houses/Karachi Houses Dataset.csv')\n",
    "df.sample(5)"
   ]
  },
  {
   "cell_type": "code",
   "execution_count": 239,
   "id": "54be6cb2",
   "metadata": {},
   "outputs": [
    {
     "data": {
      "text/html": [
       "<div>\n",
       "<style scoped>\n",
       "    .dataframe tbody tr th:only-of-type {\n",
       "        vertical-align: middle;\n",
       "    }\n",
       "\n",
       "    .dataframe tbody tr th {\n",
       "        vertical-align: top;\n",
       "    }\n",
       "\n",
       "    .dataframe thead th {\n",
       "        text-align: right;\n",
       "    }\n",
       "</style>\n",
       "<table border=\"1\" class=\"dataframe\">\n",
       "  <thead>\n",
       "    <tr style=\"text-align: right;\">\n",
       "      <th></th>\n",
       "      <th>property_id</th>\n",
       "      <th>purpose</th>\n",
       "      <th>city</th>\n",
       "      <th>location</th>\n",
       "      <th>beds</th>\n",
       "      <th>baths</th>\n",
       "      <th>area_yard</th>\n",
       "      <th>price</th>\n",
       "      <th>date_added</th>\n",
       "    </tr>\n",
       "  </thead>\n",
       "  <tbody>\n",
       "    <tr>\n",
       "      <th>11609</th>\n",
       "      <td>Property_11610</td>\n",
       "      <td>Sale</td>\n",
       "      <td>Karachi</td>\n",
       "      <td>Clifton - Block 5, Clifton</td>\n",
       "      <td>10</td>\n",
       "      <td>6</td>\n",
       "      <td>2,000 Sq. Yd.</td>\n",
       "      <td>16 Crore</td>\n",
       "      <td>2025-02-25</td>\n",
       "    </tr>\n",
       "  </tbody>\n",
       "</table>\n",
       "</div>"
      ],
      "text/plain": [
       "          property_id purpose     city                    location beds baths  \\\n",
       "11609  Property_11610    Sale  Karachi  Clifton - Block 5, Clifton   10     6   \n",
       "\n",
       "           area_yard     price  date_added  \n",
       "11609  2,000 Sq. Yd.  16 Crore  2025-02-25  "
      ]
     },
     "execution_count": 239,
     "metadata": {},
     "output_type": "execute_result"
    }
   ],
   "source": [
    "df[df['property_id']=='Property_11610']"
   ]
  },
  {
   "cell_type": "markdown",
   "id": "acbbc2db",
   "metadata": {},
   "source": [
    "----------"
   ]
  },
  {
   "cell_type": "markdown",
   "id": "86eaede1",
   "metadata": {},
   "source": [
    "## Data Preprocessing"
   ]
  },
  {
   "cell_type": "markdown",
   "id": "7eb75bd9",
   "metadata": {},
   "source": [
    "### Data Anomilies "
   ]
  },
  {
   "cell_type": "markdown",
   "id": "695e2e2a",
   "metadata": {},
   "source": [
    "Correct the data typos and anomilies on the dataset"
   ]
  },
  {
   "cell_type": "markdown",
   "id": "43b52f83",
   "metadata": {},
   "source": [
    "From location extract only the house location area socities\n",
    "like Scheme 33, DHA etc"
   ]
  },
  {
   "cell_type": "code",
   "execution_count": 240,
   "id": "a96621c5",
   "metadata": {},
   "outputs": [],
   "source": [
    "import re\n",
    "locations = ['DHA', 'Malir', 'Scheme 33', 'Naya Nazimabad', 'Gadap Town', 'North Nazimabad', \n",
    "             'Gulistan-e-Jauhar', 'Federal B Area', 'PECHS', 'Gulshan-e-Iqbal', 'Gulshan-e-Maymar', \n",
    "             'North Karachi', 'Shadman Town', 'Clifton', 'Askari 5', 'Surjani Town', 'Bahria', 'Scheme 1', \n",
    "             'Saima Villas', 'Saadi Garden', 'Karsaz', 'Saadi Town', 'Bufferzone', 'NHS Mauripur', 'KN Gohar Green', \n",
    "             'Gulshan-e-Roomi','Landhi','Falcon Complex', 'Saima Luxury', 'Jamshed Town','Amir Khusro', 'Ilyas Goth', \n",
    "             'Airport Road', 'Zamzama', 'Faisal Cantonment','Sindhi Muslim Society', 'Bath Island', 'Shahra-e-Faisal', \n",
    "             'Defence View', 'Shaheed Millat Road', 'Gulshan-e-Kaneez Fatima', 'Chapal Uptown']\n",
    "\n",
    "def extract_location(location):\n",
    "    for loc in locations:\n",
    "        if loc in location:\n",
    "            return loc\n",
    "    return None"
   ]
  },
  {
   "cell_type": "code",
   "execution_count": 241,
   "id": "bc079638",
   "metadata": {},
   "outputs": [],
   "source": [
    "df['society'] = df['location'].apply(extract_location)"
   ]
  },
  {
   "cell_type": "markdown",
   "id": "43101809",
   "metadata": {},
   "source": [
    "During scrapping the data scraped had some errors, like in baths and beds columns some values of area_yard were included"
   ]
  },
  {
   "cell_type": "markdown",
   "id": "6a16bb4f",
   "metadata": {},
   "source": [
    "Correct the baths column "
   ]
  },
  {
   "cell_type": "code",
   "execution_count": 242,
   "id": "e1940a3e",
   "metadata": {},
   "outputs": [],
   "source": [
    "area_condition = df['baths'].str.contains('Sq. Yd.', na=False)\n",
    "\n",
    "df.loc[area_condition, 'area_yard'] = df.loc[area_condition, 'baths']\n",
    "\n",
    "df.loc[area_condition, 'baths'] = None"
   ]
  },
  {
   "cell_type": "markdown",
   "id": "b10fbfe4",
   "metadata": {},
   "source": [
    "Correct the beds column"
   ]
  },
  {
   "cell_type": "code",
   "execution_count": 243,
   "id": "a3fa8797",
   "metadata": {},
   "outputs": [],
   "source": [
    "area_condition = df['beds'].str.contains('Sq. Yd.', na=False)\n",
    "\n",
    "df.loc[area_condition, 'area_yard'] = df.loc[area_condition, 'beds']\n",
    "\n",
    "df.loc[area_condition, 'beds'] = None"
   ]
  },
  {
   "cell_type": "markdown",
   "id": "dd4dbde7",
   "metadata": {},
   "source": [
    "Convert the area_yard into sq_feet"
   ]
  },
  {
   "cell_type": "code",
   "execution_count": 244,
   "id": "088f2548",
   "metadata": {},
   "outputs": [],
   "source": [
    "df['area_yard_clean'] = df['area_yard'].str.replace(',', '', regex=False)\n",
    "\n",
    "df['area_num'] = df['area_yard_clean'].str.extract('(\\d+)', expand=False).astype(float)\n",
    "\n",
    "df['area_in_sqft'] = df['area_num'] * 9"
   ]
  },
  {
   "cell_type": "markdown",
   "id": "bbcd78a3",
   "metadata": {},
   "source": [
    "Convert the price to numeric values"
   ]
  },
  {
   "cell_type": "code",
   "execution_count": 245,
   "id": "7138463b",
   "metadata": {},
   "outputs": [],
   "source": [
    "def convert_price(price):\n",
    "    if isinstance(price, float):\n",
    "        return price\n",
    "\n",
    "    if 'Crore' in price:\n",
    "        value = float(re.sub(r'[^\\d.]', '', price))  \n",
    "        return value * 10000000  \n",
    "    elif 'Lakh' in price:\n",
    "        value = float(re.sub(r'[^\\d.]', '', price))  \n",
    "        return value * 100000  \n",
    "    \n",
    "    return float(re.sub(r'[^\\d.]', '', price))"
   ]
  },
  {
   "cell_type": "code",
   "execution_count": 246,
   "id": "7da54e5b",
   "metadata": {},
   "outputs": [],
   "source": [
    "df['numeric_price'] = df['price'].apply(convert_price)"
   ]
  },
  {
   "cell_type": "markdown",
   "id": "5d3740af",
   "metadata": {},
   "source": [
    "Change the numeric data column type into int"
   ]
  },
  {
   "cell_type": "code",
   "execution_count": 247,
   "id": "5fb84175",
   "metadata": {},
   "outputs": [],
   "source": [
    "num = ['beds', 'baths']\n",
    "\n",
    "for i in num:\n",
    "    df[i]=pd.to_numeric(df[i], errors='coerce')"
   ]
  },
  {
   "cell_type": "code",
   "execution_count": 248,
   "id": "9b4d7709",
   "metadata": {},
   "outputs": [],
   "source": [
    "df['date_added'] = pd.to_datetime(df['date_added'], errors='coerce')"
   ]
  },
  {
   "cell_type": "markdown",
   "id": "40ca4d8e",
   "metadata": {},
   "source": [
    "Remove unnecessary columns"
   ]
  },
  {
   "cell_type": "code",
   "execution_count": 249,
   "id": "613af041",
   "metadata": {},
   "outputs": [],
   "source": [
    "df.drop(columns=['purpose','city','location','area_yard','area_num','price', 'area_yard_clean'],inplace=True)"
   ]
  },
  {
   "cell_type": "markdown",
   "id": "c2499668",
   "metadata": {},
   "source": [
    "Rename the numeric price column to price"
   ]
  },
  {
   "cell_type": "code",
   "execution_count": 250,
   "id": "cafac716",
   "metadata": {},
   "outputs": [],
   "source": [
    "df.rename(columns={'numeric_price':'price'}, inplace=True)"
   ]
  },
  {
   "cell_type": "markdown",
   "id": "068b4e19",
   "metadata": {},
   "source": [
    "-------"
   ]
  },
  {
   "cell_type": "markdown",
   "id": "8cdbed3c",
   "metadata": {},
   "source": [
    "### Handle missing values"
   ]
  },
  {
   "cell_type": "code",
   "execution_count": 251,
   "id": "7f4e9004",
   "metadata": {},
   "outputs": [
    {
     "name": "stdout",
     "output_type": "stream",
     "text": [
      "Missing values in the dataset:\n"
     ]
    },
    {
     "data": {
      "text/plain": [
       "date_added      43.484407\n",
       "baths            7.800416\n",
       "beds             6.644491\n",
       "price            4.000000\n",
       "society          3.135135\n",
       "property_id      0.000000\n",
       "area_in_sqft     0.000000\n",
       "dtype: float64"
      ]
     },
     "execution_count": 251,
     "metadata": {},
     "output_type": "execute_result"
    }
   ],
   "source": [
    "print('Missing values in the dataset:')\n",
    "(df.isnull().sum() / len(df) * 100).sort_values(ascending=False)"
   ]
  },
  {
   "cell_type": "markdown",
   "id": "b97f282c",
   "metadata": {},
   "source": [
    "firstly we fill the missing values that are less then 10%"
   ]
  },
  {
   "cell_type": "markdown",
   "id": "f5449337",
   "metadata": {},
   "source": [
    "**Steps**\n",
    "- Check is data is MCAR or not\n",
    "- Check the distribution of data before and after imputation"
   ]
  },
  {
   "cell_type": "markdown",
   "id": "c1ed88a9",
   "metadata": {},
   "source": [
    "We have a beautifull library called missingo, which can help us to see the values are MCAR or not."
   ]
  },
  {
   "cell_type": "code",
   "execution_count": 252,
   "id": "486ec11e",
   "metadata": {},
   "outputs": [
    {
     "data": {
      "text/plain": [
       "<Axes: >"
      ]
     },
     "execution_count": 252,
     "metadata": {},
     "output_type": "execute_result"
    },
    {
     "data": {
      "image/png": "[encoded data removed]",
      "text/plain": [
       "<Figure size 2500x1000 with 2 Axes>"
      ]
     },
     "metadata": {},
     "output_type": "display_data"
    }
   ],
   "source": [
    "msno.matrix(df)"
   ]
  },
  {
   "cell_type": "markdown",
   "id": "ed211c0f",
   "metadata": {},
   "source": [
    "- First, we drop the rows with missing values in the target column. Filling these missing values could introduce bias into the model.\n",
    "- In the society column, missing values cannot be filled reliably because we lack sufficient information about which houses belong to which society."
   ]
  },
  {
   "cell_type": "code",
   "execution_count": 253,
   "id": "4867b729",
   "metadata": {},
   "outputs": [],
   "source": [
    "df.dropna(subset=['price', 'society'], inplace=True)"
   ]
  },
  {
   "cell_type": "markdown",
   "id": "0b90d04a",
   "metadata": {},
   "source": [
    "exluded date_added, remain features missing values are MCAR.\n",
    "Now check the Distribution of these columns"
   ]
  },
  {
   "cell_type": "code",
   "execution_count": 254,
   "id": "8275e7e9",
   "metadata": {},
   "outputs": [
    {
     "data": {
      "image/png": "[encoded data removed]",
      "text/plain": [
       "<Figure size 800x400 with 2 Axes>"
      ]
     },
     "metadata": {},
     "output_type": "display_data"
    }
   ],
   "source": [
    "num_missing = ['baths','beds']\n",
    "\n",
    "plt.figure(figsize=(8,4))\n",
    "for i, col in enumerate(num_missing):\n",
    "    plt.subplot(1,2,i+1)\n",
    "    sns.histplot(data=df, x=col, kde=True)\n",
    "    plt.title(f'{col} Distribution')\n",
    "    plt.suptitle('Before Imputing Missing Values')\n",
    "plt.tight_layout()\n",
    "plt.show()\n"
   ]
  },
  {
   "cell_type": "markdown",
   "id": "64bfcb53",
   "metadata": {},
   "source": [
    "- As our baths feature values from 1 - 10, \n",
    "- Beds feature values from 1-11."
   ]
  },
  {
   "cell_type": "markdown",
   "id": "1853982c",
   "metadata": {},
   "source": [
    "- In baths we use mode as the 6 apears more in the data so it can't effect on distribution "
   ]
  },
  {
   "cell_type": "code",
   "execution_count": 255,
   "id": "c29c5ea4",
   "metadata": {},
   "outputs": [],
   "source": [
    "df['baths'].fillna(df['baths'].mode()[0], inplace=True)"
   ]
  },
  {
   "cell_type": "markdown",
   "id": "f7c79910",
   "metadata": {},
   "source": [
    "Approximately 6.6% of values are missing in the beds column. To preserve the original distribution, we fill missing values evenly with 4, 5, or 6"
   ]
  },
  {
   "cell_type": "code",
   "execution_count": 256,
   "id": "96e7a9d6",
   "metadata": {},
   "outputs": [],
   "source": [
    "fill_values = [4, 5, 6]\n",
    "missing_beds = df[df['beds'].isna()].index\n",
    "df.loc[missing_beds, 'beds'] = np.random.choice(fill_values, size=len(missing_beds), replace=True)"
   ]
  },
  {
   "cell_type": "code",
   "execution_count": 257,
   "id": "27c698d4",
   "metadata": {},
   "outputs": [
    {
     "data": {
      "image/png": "[encoded data removed]",
      "text/plain": [
       "<Figure size 800x400 with 2 Axes>"
      ]
     },
     "metadata": {},
     "output_type": "display_data"
    }
   ],
   "source": [
    "plt.figure(figsize=(8,4))\n",
    "for i, col in enumerate(num_missing):\n",
    "    plt.subplot(1,2,i+1)\n",
    "    sns.histplot(data=df, x=col, kde=True)\n",
    "    plt.title(f'{col} Distribution')\n",
    "    plt.suptitle('After Imputing Missing Values')\n",
    "plt.tight_layout()\n",
    "plt.show()"
   ]
  },
  {
   "cell_type": "markdown",
   "id": "3d12d88f",
   "metadata": {},
   "source": [
    "For EDA purposes, missing dates were backward filled to retain data quantity. Caution is advised while interpreting time-based insights"
   ]
  },
  {
   "cell_type": "code",
   "execution_count": 258,
   "id": "0d1215f6",
   "metadata": {},
   "outputs": [],
   "source": [
    "df['date_added'] = df['date_added'].bfill()"
   ]
  },
  {
   "cell_type": "markdown",
   "id": "e1eeb9c9",
   "metadata": {},
   "source": [
    "--------"
   ]
  },
  {
   "cell_type": "markdown",
   "id": "e1f27447",
   "metadata": {},
   "source": [
    "### Data Summary"
   ]
  },
  {
   "cell_type": "code",
   "execution_count": 259,
   "id": "7b293994",
   "metadata": {},
   "outputs": [
    {
     "name": "stdout",
     "output_type": "stream",
     "text": [
      "<class 'pandas.core.frame.DataFrame'>\n",
      "Index: 11177 entries, 0 to 12024\n",
      "Data columns (total 7 columns):\n",
      " #   Column        Non-Null Count  Dtype         \n",
      "---  ------        --------------  -----         \n",
      " 0   property_id   11177 non-null  object        \n",
      " 1   beds          11177 non-null  float64       \n",
      " 2   baths         11177 non-null  float64       \n",
      " 3   date_added    11166 non-null  datetime64[ns]\n",
      " 4   society       11177 non-null  object        \n",
      " 5   area_in_sqft  11177 non-null  float64       \n",
      " 6   price         11177 non-null  float64       \n",
      "dtypes: datetime64[ns](1), float64(4), object(2)\n",
      "memory usage: 956.6+ KB\n"
     ]
    },
    {
     "data": {
      "text/html": [
       "<div>\n",
       "<style scoped>\n",
       "    .dataframe tbody tr th:only-of-type {\n",
       "        vertical-align: middle;\n",
       "    }\n",
       "\n",
       "    .dataframe tbody tr th {\n",
       "        vertical-align: top;\n",
       "    }\n",
       "\n",
       "    .dataframe thead th {\n",
       "        text-align: right;\n",
       "    }\n",
       "</style>\n",
       "<table border=\"1\" class=\"dataframe\">\n",
       "  <thead>\n",
       "    <tr style=\"text-align: right;\">\n",
       "      <th></th>\n",
       "      <th>beds</th>\n",
       "      <th>baths</th>\n",
       "      <th>date_added</th>\n",
       "      <th>area_in_sqft</th>\n",
       "      <th>price</th>\n",
       "    </tr>\n",
       "  </thead>\n",
       "  <tbody>\n",
       "    <tr>\n",
       "      <th>count</th>\n",
       "      <td>11177.000000</td>\n",
       "      <td>11177.000000</td>\n",
       "      <td>11166</td>\n",
       "      <td>11177.000000</td>\n",
       "      <td>1.117700e+04</td>\n",
       "    </tr>\n",
       "    <tr>\n",
       "      <th>mean</th>\n",
       "      <td>5.014584</td>\n",
       "      <td>5.044108</td>\n",
       "      <td>2025-04-08 12:49:46.781299968</td>\n",
       "      <td>3142.147446</td>\n",
       "      <td>8.279051e+07</td>\n",
       "    </tr>\n",
       "    <tr>\n",
       "      <th>min</th>\n",
       "      <td>1.000000</td>\n",
       "      <td>1.000000</td>\n",
       "      <td>2023-11-03 00:00:00</td>\n",
       "      <td>45.000000</td>\n",
       "      <td>1.000000e+00</td>\n",
       "    </tr>\n",
       "    <tr>\n",
       "      <th>25%</th>\n",
       "      <td>4.000000</td>\n",
       "      <td>4.000000</td>\n",
       "      <td>2025-03-27 00:00:00</td>\n",
       "      <td>1125.000000</td>\n",
       "      <td>2.580000e+07</td>\n",
       "    </tr>\n",
       "    <tr>\n",
       "      <th>50%</th>\n",
       "      <td>5.000000</td>\n",
       "      <td>5.000000</td>\n",
       "      <td>2025-04-22 00:00:00</td>\n",
       "      <td>2250.000000</td>\n",
       "      <td>5.600000e+07</td>\n",
       "    </tr>\n",
       "    <tr>\n",
       "      <th>75%</th>\n",
       "      <td>6.000000</td>\n",
       "      <td>6.000000</td>\n",
       "      <td>2025-04-25 00:00:00</td>\n",
       "      <td>4500.000000</td>\n",
       "      <td>1.060000e+08</td>\n",
       "    </tr>\n",
       "    <tr>\n",
       "      <th>max</th>\n",
       "      <td>11.000000</td>\n",
       "      <td>10.000000</td>\n",
       "      <td>2025-04-26 00:00:00</td>\n",
       "      <td>171000.000000</td>\n",
       "      <td>8.500000e+08</td>\n",
       "    </tr>\n",
       "    <tr>\n",
       "      <th>std</th>\n",
       "      <td>1.702944</td>\n",
       "      <td>1.293784</td>\n",
       "      <td>NaN</td>\n",
       "      <td>3118.576117</td>\n",
       "      <td>8.638026e+07</td>\n",
       "    </tr>\n",
       "  </tbody>\n",
       "</table>\n",
       "</div>"
      ],
      "text/plain": [
       "               beds         baths                     date_added  \\\n",
       "count  11177.000000  11177.000000                          11166   \n",
       "mean       5.014584      5.044108  2025-04-08 12:49:46.781299968   \n",
       "min        1.000000      1.000000            2023-11-03 00:00:00   \n",
       "25%        4.000000      4.000000            2025-03-27 00:00:00   \n",
       "50%        5.000000      5.000000            2025-04-22 00:00:00   \n",
       "75%        6.000000      6.000000            2025-04-25 00:00:00   \n",
       "max       11.000000     10.000000            2025-04-26 00:00:00   \n",
       "std        1.702944      1.293784                            NaN   \n",
       "\n",
       "        area_in_sqft         price  \n",
       "count   11177.000000  1.117700e+04  \n",
       "mean     3142.147446  8.279051e+07  \n",
       "min        45.000000  1.000000e+00  \n",
       "25%      1125.000000  2.580000e+07  \n",
       "50%      2250.000000  5.600000e+07  \n",
       "75%      4500.000000  1.060000e+08  \n",
       "max    171000.000000  8.500000e+08  \n",
       "std      3118.576117  8.638026e+07  "
      ]
     },
     "execution_count": 259,
     "metadata": {},
     "output_type": "execute_result"
    }
   ],
   "source": [
    "df.info()\n",
    "df.describe()"
   ]
  },
  {
   "cell_type": "markdown",
   "id": "9b3099c4",
   "metadata": {},
   "source": [
    "**Beds**\n",
    "- The number of beds in the houses from 1 to 11.\n",
    "\n",
    "**Baths**\n",
    "- The number of bathrooms in the houses from 1 to 10.\n",
    "\n",
    "**Date_added**\n",
    "- The data is from 2024 - 2025\n",
    "\n",
    "**Area_in_sqft**\n",
    "- "
   ]
  },
  {
   "cell_type": "markdown",
   "id": "2fe917d3",
   "metadata": {},
   "source": [
    "-----------"
   ]
  },
  {
   "cell_type": "markdown",
   "id": "a2b0d63e",
   "metadata": {},
   "source": [
    "There are no duplicated Rows in the dataset"
   ]
  },
  {
   "cell_type": "code",
   "execution_count": 260,
   "id": "f5f549d7",
   "metadata": {},
   "outputs": [
    {
     "data": {
      "text/plain": [
       "0"
      ]
     },
     "execution_count": 260,
     "metadata": {},
     "output_type": "execute_result"
    }
   ],
   "source": [
    "df.duplicated().sum()"
   ]
  },
  {
   "cell_type": "markdown",
   "id": "ff44ba5d",
   "metadata": {},
   "source": [
    "----------"
   ]
  },
  {
   "cell_type": "markdown",
   "id": "eb83ae93",
   "metadata": {},
   "source": [
    "### Handle Outliers"
   ]
  },
  {
   "cell_type": "code",
   "execution_count": 261,
   "id": "07199b43",
   "metadata": {},
   "outputs": [
    {
     "data": {
      "text/html": [
       "<div>\n",
       "<style scoped>\n",
       "    .dataframe tbody tr th:only-of-type {\n",
       "        vertical-align: middle;\n",
       "    }\n",
       "\n",
       "    .dataframe tbody tr th {\n",
       "        vertical-align: top;\n",
       "    }\n",
       "\n",
       "    .dataframe thead th {\n",
       "        text-align: right;\n",
       "    }\n",
       "</style>\n",
       "<table border=\"1\" class=\"dataframe\">\n",
       "  <thead>\n",
       "    <tr style=\"text-align: right;\">\n",
       "      <th></th>\n",
       "      <th>property_id</th>\n",
       "      <th>beds</th>\n",
       "      <th>baths</th>\n",
       "      <th>date_added</th>\n",
       "      <th>society</th>\n",
       "      <th>area_in_sqft</th>\n",
       "      <th>price</th>\n",
       "    </tr>\n",
       "  </thead>\n",
       "  <tbody>\n",
       "    <tr>\n",
       "      <th>421</th>\n",
       "      <td>Property_422</td>\n",
       "      <td>11.0</td>\n",
       "      <td>6.0</td>\n",
       "      <td>2025-04-26</td>\n",
       "      <td>DHA</td>\n",
       "      <td>45000.0</td>\n",
       "      <td>4.500000e+07</td>\n",
       "    </tr>\n",
       "    <tr>\n",
       "      <th>1030</th>\n",
       "      <td>Property_1031</td>\n",
       "      <td>10.0</td>\n",
       "      <td>6.0</td>\n",
       "      <td>2025-04-26</td>\n",
       "      <td>DHA</td>\n",
       "      <td>90000.0</td>\n",
       "      <td>3.150000e+07</td>\n",
       "    </tr>\n",
       "    <tr>\n",
       "      <th>1509</th>\n",
       "      <td>Property_1510</td>\n",
       "      <td>11.0</td>\n",
       "      <td>7.0</td>\n",
       "      <td>2025-04-26</td>\n",
       "      <td>Scheme 33</td>\n",
       "      <td>19827.0</td>\n",
       "      <td>1.450000e+08</td>\n",
       "    </tr>\n",
       "    <tr>\n",
       "      <th>2440</th>\n",
       "      <td>Property_2441</td>\n",
       "      <td>11.0</td>\n",
       "      <td>7.0</td>\n",
       "      <td>2025-04-24</td>\n",
       "      <td>DHA</td>\n",
       "      <td>36000.0</td>\n",
       "      <td>3.500000e+07</td>\n",
       "    </tr>\n",
       "    <tr>\n",
       "      <th>2830</th>\n",
       "      <td>Property_2831</td>\n",
       "      <td>5.0</td>\n",
       "      <td>5.0</td>\n",
       "      <td>2025-04-21</td>\n",
       "      <td>Naya Nazimabad</td>\n",
       "      <td>27000.0</td>\n",
       "      <td>3.200000e+07</td>\n",
       "    </tr>\n",
       "    <tr>\n",
       "      <th>3209</th>\n",
       "      <td>Property_3210</td>\n",
       "      <td>11.0</td>\n",
       "      <td>7.0</td>\n",
       "      <td>2025-04-26</td>\n",
       "      <td>DHA</td>\n",
       "      <td>27000.0</td>\n",
       "      <td>1.150000e+08</td>\n",
       "    </tr>\n",
       "    <tr>\n",
       "      <th>3778</th>\n",
       "      <td>Property_3779</td>\n",
       "      <td>6.0</td>\n",
       "      <td>6.0</td>\n",
       "      <td>2025-04-23</td>\n",
       "      <td>DHA</td>\n",
       "      <td>36000.0</td>\n",
       "      <td>1.050000e+00</td>\n",
       "    </tr>\n",
       "    <tr>\n",
       "      <th>4440</th>\n",
       "      <td>Property_4441</td>\n",
       "      <td>5.0</td>\n",
       "      <td>6.0</td>\n",
       "      <td>2025-04-24</td>\n",
       "      <td>DHA</td>\n",
       "      <td>19800.0</td>\n",
       "      <td>1.800000e+08</td>\n",
       "    </tr>\n",
       "    <tr>\n",
       "      <th>4441</th>\n",
       "      <td>Property_4442</td>\n",
       "      <td>5.0</td>\n",
       "      <td>5.0</td>\n",
       "      <td>2025-04-24</td>\n",
       "      <td>DHA</td>\n",
       "      <td>19800.0</td>\n",
       "      <td>4.500000e+08</td>\n",
       "    </tr>\n",
       "    <tr>\n",
       "      <th>5972</th>\n",
       "      <td>Property_5973</td>\n",
       "      <td>10.0</td>\n",
       "      <td>6.0</td>\n",
       "      <td>2025-04-22</td>\n",
       "      <td>PECHS</td>\n",
       "      <td>24300.0</td>\n",
       "      <td>6.500000e+07</td>\n",
       "    </tr>\n",
       "    <tr>\n",
       "      <th>7431</th>\n",
       "      <td>Property_7432</td>\n",
       "      <td>3.0</td>\n",
       "      <td>4.0</td>\n",
       "      <td>2025-03-27</td>\n",
       "      <td>Gulistan-e-Jauhar</td>\n",
       "      <td>171000.0</td>\n",
       "      <td>3.000000e+07</td>\n",
       "    </tr>\n",
       "    <tr>\n",
       "      <th>8833</th>\n",
       "      <td>Property_8834</td>\n",
       "      <td>3.0</td>\n",
       "      <td>3.0</td>\n",
       "      <td>2025-03-27</td>\n",
       "      <td>Askari 5</td>\n",
       "      <td>19800.0</td>\n",
       "      <td>1.160000e+07</td>\n",
       "    </tr>\n",
       "    <tr>\n",
       "      <th>8834</th>\n",
       "      <td>Property_8835</td>\n",
       "      <td>3.0</td>\n",
       "      <td>3.0</td>\n",
       "      <td>2025-03-27</td>\n",
       "      <td>Askari 5</td>\n",
       "      <td>19800.0</td>\n",
       "      <td>3.680000e+07</td>\n",
       "    </tr>\n",
       "    <tr>\n",
       "      <th>8835</th>\n",
       "      <td>Property_8836</td>\n",
       "      <td>3.0</td>\n",
       "      <td>3.0</td>\n",
       "      <td>2025-03-27</td>\n",
       "      <td>Askari 5</td>\n",
       "      <td>19800.0</td>\n",
       "      <td>3.680000e+07</td>\n",
       "    </tr>\n",
       "    <tr>\n",
       "      <th>8836</th>\n",
       "      <td>Property_8837</td>\n",
       "      <td>3.0</td>\n",
       "      <td>3.0</td>\n",
       "      <td>2025-03-27</td>\n",
       "      <td>Askari 5</td>\n",
       "      <td>19800.0</td>\n",
       "      <td>3.660000e+07</td>\n",
       "    </tr>\n",
       "    <tr>\n",
       "      <th>8837</th>\n",
       "      <td>Property_8838</td>\n",
       "      <td>3.0</td>\n",
       "      <td>3.0</td>\n",
       "      <td>2025-03-27</td>\n",
       "      <td>Askari 5</td>\n",
       "      <td>19800.0</td>\n",
       "      <td>3.670000e+07</td>\n",
       "    </tr>\n",
       "    <tr>\n",
       "      <th>8838</th>\n",
       "      <td>Property_8839</td>\n",
       "      <td>3.0</td>\n",
       "      <td>3.0</td>\n",
       "      <td>2025-03-27</td>\n",
       "      <td>Askari 5</td>\n",
       "      <td>19800.0</td>\n",
       "      <td>3.670000e+07</td>\n",
       "    </tr>\n",
       "    <tr>\n",
       "      <th>8851</th>\n",
       "      <td>Property_8852</td>\n",
       "      <td>3.0</td>\n",
       "      <td>3.0</td>\n",
       "      <td>2025-03-27</td>\n",
       "      <td>Askari 5</td>\n",
       "      <td>19800.0</td>\n",
       "      <td>3.680000e+07</td>\n",
       "    </tr>\n",
       "    <tr>\n",
       "      <th>8852</th>\n",
       "      <td>Property_8853</td>\n",
       "      <td>3.0</td>\n",
       "      <td>3.0</td>\n",
       "      <td>2025-03-27</td>\n",
       "      <td>Askari 5</td>\n",
       "      <td>19800.0</td>\n",
       "      <td>3.680000e+07</td>\n",
       "    </tr>\n",
       "    <tr>\n",
       "      <th>8853</th>\n",
       "      <td>Property_8854</td>\n",
       "      <td>3.0</td>\n",
       "      <td>3.0</td>\n",
       "      <td>2025-03-27</td>\n",
       "      <td>Askari 5</td>\n",
       "      <td>19800.0</td>\n",
       "      <td>3.660000e+07</td>\n",
       "    </tr>\n",
       "    <tr>\n",
       "      <th>8855</th>\n",
       "      <td>Property_8856</td>\n",
       "      <td>3.0</td>\n",
       "      <td>3.0</td>\n",
       "      <td>2025-03-27</td>\n",
       "      <td>Askari 5</td>\n",
       "      <td>19800.0</td>\n",
       "      <td>3.670000e+07</td>\n",
       "    </tr>\n",
       "    <tr>\n",
       "      <th>8856</th>\n",
       "      <td>Property_8857</td>\n",
       "      <td>3.0</td>\n",
       "      <td>3.0</td>\n",
       "      <td>2025-03-27</td>\n",
       "      <td>Askari 5</td>\n",
       "      <td>19800.0</td>\n",
       "      <td>3.670000e+07</td>\n",
       "    </tr>\n",
       "    <tr>\n",
       "      <th>10026</th>\n",
       "      <td>Property_10027</td>\n",
       "      <td>10.0</td>\n",
       "      <td>6.0</td>\n",
       "      <td>2025-03-27</td>\n",
       "      <td>DHA</td>\n",
       "      <td>27000.0</td>\n",
       "      <td>1.000000e+00</td>\n",
       "    </tr>\n",
       "    <tr>\n",
       "      <th>11510</th>\n",
       "      <td>Property_11511</td>\n",
       "      <td>4.0</td>\n",
       "      <td>6.0</td>\n",
       "      <td>2025-03-27</td>\n",
       "      <td>Shaheed Millat Road</td>\n",
       "      <td>25200.0</td>\n",
       "      <td>1.150000e+08</td>\n",
       "    </tr>\n",
       "    <tr>\n",
       "      <th>11706</th>\n",
       "      <td>Property_11707</td>\n",
       "      <td>3.0</td>\n",
       "      <td>4.0</td>\n",
       "      <td>2024-11-27</td>\n",
       "      <td>Askari 5</td>\n",
       "      <td>23400.0</td>\n",
       "      <td>1.350000e+08</td>\n",
       "    </tr>\n",
       "  </tbody>\n",
       "</table>\n",
       "</div>"
      ],
      "text/plain": [
       "          property_id  beds  baths date_added              society  \\\n",
       "421      Property_422  11.0    6.0 2025-04-26                  DHA   \n",
       "1030    Property_1031  10.0    6.0 2025-04-26                  DHA   \n",
       "1509    Property_1510  11.0    7.0 2025-04-26            Scheme 33   \n",
       "2440    Property_2441  11.0    7.0 2025-04-24                  DHA   \n",
       "2830    Property_2831   5.0    5.0 2025-04-21       Naya Nazimabad   \n",
       "3209    Property_3210  11.0    7.0 2025-04-26                  DHA   \n",
       "3778    Property_3779   6.0    6.0 2025-04-23                  DHA   \n",
       "4440    Property_4441   5.0    6.0 2025-04-24                  DHA   \n",
       "4441    Property_4442   5.0    5.0 2025-04-24                  DHA   \n",
       "5972    Property_5973  10.0    6.0 2025-04-22                PECHS   \n",
       "7431    Property_7432   3.0    4.0 2025-03-27    Gulistan-e-Jauhar   \n",
       "8833    Property_8834   3.0    3.0 2025-03-27             Askari 5   \n",
       "8834    Property_8835   3.0    3.0 2025-03-27             Askari 5   \n",
       "8835    Property_8836   3.0    3.0 2025-03-27             Askari 5   \n",
       "8836    Property_8837   3.0    3.0 2025-03-27             Askari 5   \n",
       "8837    Property_8838   3.0    3.0 2025-03-27             Askari 5   \n",
       "8838    Property_8839   3.0    3.0 2025-03-27             Askari 5   \n",
       "8851    Property_8852   3.0    3.0 2025-03-27             Askari 5   \n",
       "8852    Property_8853   3.0    3.0 2025-03-27             Askari 5   \n",
       "8853    Property_8854   3.0    3.0 2025-03-27             Askari 5   \n",
       "8855    Property_8856   3.0    3.0 2025-03-27             Askari 5   \n",
       "8856    Property_8857   3.0    3.0 2025-03-27             Askari 5   \n",
       "10026  Property_10027  10.0    6.0 2025-03-27                  DHA   \n",
       "11510  Property_11511   4.0    6.0 2025-03-27  Shaheed Millat Road   \n",
       "11706  Property_11707   3.0    4.0 2024-11-27             Askari 5   \n",
       "\n",
       "       area_in_sqft         price  \n",
       "421         45000.0  4.500000e+07  \n",
       "1030        90000.0  3.150000e+07  \n",
       "1509        19827.0  1.450000e+08  \n",
       "2440        36000.0  3.500000e+07  \n",
       "2830        27000.0  3.200000e+07  \n",
       "3209        27000.0  1.150000e+08  \n",
       "3778        36000.0  1.050000e+00  \n",
       "4440        19800.0  1.800000e+08  \n",
       "4441        19800.0  4.500000e+08  \n",
       "5972        24300.0  6.500000e+07  \n",
       "7431       171000.0  3.000000e+07  \n",
       "8833        19800.0  1.160000e+07  \n",
       "8834        19800.0  3.680000e+07  \n",
       "8835        19800.0  3.680000e+07  \n",
       "8836        19800.0  3.660000e+07  \n",
       "8837        19800.0  3.670000e+07  \n",
       "8838        19800.0  3.670000e+07  \n",
       "8851        19800.0  3.680000e+07  \n",
       "8852        19800.0  3.680000e+07  \n",
       "8853        19800.0  3.660000e+07  \n",
       "8855        19800.0  3.670000e+07  \n",
       "8856        19800.0  3.670000e+07  \n",
       "10026       27000.0  1.000000e+00  \n",
       "11510       25200.0  1.150000e+08  \n",
       "11706       23400.0  1.350000e+08  "
      ]
     },
     "execution_count": 261,
     "metadata": {},
     "output_type": "execute_result"
    }
   ],
   "source": [
    "df[df['area_in_sqft'] > 18000]"
   ]
  }
 ],
 "metadata": {
  "kernelspec": {
   "display_name": "main",
   "language": "python",
   "name": "python3"
  },
  "language_info": {
   "codemirror_mode": {
    "name": "ipython",
    "version": 3
   },
   "file_extension": ".py",
   "mimetype": "text/x-python",
   "name": "python",
   "nbconvert_exporter": "python",
   "pygments_lexer": "ipython3",
   "version": "3.12.3"
  }
 },
 "nbformat": 4,
 "nbformat_minor": 5
}
